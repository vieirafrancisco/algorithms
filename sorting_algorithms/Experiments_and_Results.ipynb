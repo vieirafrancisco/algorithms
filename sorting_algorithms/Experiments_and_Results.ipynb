{
 "cells": [
  {
   "cell_type": "code",
   "execution_count": 11,
   "metadata": {},
   "outputs": [],
   "source": [
    "import os\n",
    "import random\n",
    "import time\n",
    "import pickle\n",
    "\n",
    "import pandas as pd\n",
    "import matplotlib.pyplot as plt\n",
    "\n",
    "from selection_sort import selection_sort\n",
    "from heap_sort import heapsort"
   ]
  },
  {
   "cell_type": "markdown",
   "metadata": {},
   "source": [
    "### Settings"
   ]
  },
  {
   "cell_type": "code",
   "execution_count": 12,
   "metadata": {},
   "outputs": [],
   "source": [
    "ALGORITHMS = {\"heap_sort\": heapsort} # \"selection_sort\": selection_sort\n",
    "ORDERS = [\"ascendent_order\", \"descendent_order\", \"shuffled_order\"]\n",
    "NUM_ELEMENTS_LIST = [1000, 10000, 100000, 1000000]\n",
    "PATH = \"resultset/\"\n",
    "stats = {\"algorithm\":[], \"size\": [], \"order\": [], \"time\": [], \"num_operations\": []}"
   ]
  },
  {
   "cell_type": "markdown",
   "metadata": {},
   "source": [
    "### Utils"
   ]
  },
  {
   "cell_type": "code",
   "execution_count": 18,
   "metadata": {},
   "outputs": [],
   "source": [
    "def get_order_list(n: int, order_type: str) -> list:\n",
    "    arr = [i for i in range(n)]\n",
    "    if order_type == 'ascendent_order': return arr\n",
    "    elif order_type == 'descending_order': return arr[::-1]\n",
    "    random.shuffle(arr)\n",
    "    return arr\n",
    "\n",
    "def add_stat(algorithm: str, size: int, order: str, total_time: float, num_op: int) -> None:\n",
    "    stats[\"algorithm\"].append(algorithm)\n",
    "    stats[\"size\"].append(size)\n",
    "    stats[\"order\"].append(order)\n",
    "    stats[\"time\"].append(total_time)\n",
    "    stats[\"num_operations\"].append(num_op)\n",
    "    \n",
    "def save_stat(file_name=None):\n",
    "    if not file_name: file_name = \"algorithms_stats\"\n",
    "    file_name = f\"{file_name}_{time.time()}.pickle\"\n",
    "    with open(os.path.join(PATH, file_name), \"wb\") as f:\n",
    "        pickle.dump(stats, f)\n",
    "        \n",
    "def load_stat():\n",
    "    list_dir = os.listdir(PATH)\n",
    "    if  list_dir != [] and \"pickle\" in list_dir[-1]:\n",
    "        file_name = list_dir[-1]\n",
    "        print(f\"load: {file_name}\")\n",
    "        with open(os.path.join(PATH, file_name), \"rb\") as f:\n",
    "            stats = pickle.load(f)\n",
    "    else:\n",
    "        stats = {\"algorithm\":[], \"size\": [], \"order\": [], \"time\": [], \"num_operations\": []}"
   ]
  },
  {
   "cell_type": "markdown",
   "metadata": {},
   "source": [
    "### Experiments and Results"
   ]
  },
  {
   "cell_type": "code",
   "execution_count": 17,
   "metadata": {},
   "outputs": [
    {
     "name": "stdout",
     "output_type": "stream",
     "text": [
      "load: algorithms_stats_1572731124.6778653.pickle\n"
     ]
    }
   ],
   "source": [
    "for algorithm_name in ALGORITHMS:\n",
    "    load_stat()\n",
    "    if algorithm_name not in stats[\"algorithm\"]:\n",
    "        for order in ORDERS:\n",
    "            for num_elements in NUM_ELEMENTS_LIST:\n",
    "                arr = get_order_list(num_elements, order)\n",
    "                tbegin = time.time()\n",
    "                sorted_arr, num_op = ALGORITHMS[algorithm_name](arr)\n",
    "                tend = time.time()\n",
    "                add_stat(algorithm_name, num_elements, order, tend - tbegin, num_op)\n",
    "                print(f\"algorithm_name: {algorithm_name}, num_elements: {num_elements}, order: {order}, time: {tend - tbegin}, num_op: {num_op}\")\n",
    "\n",
    "        save_stat()\n",
    "df = pd.DataFrame(stats)"
   ]
  },
  {
   "cell_type": "code",
   "execution_count": 51,
   "metadata": {},
   "outputs": [
    {
     "name": "stdout",
     "output_type": "stream",
     "text": [
      "load: algorithms_stats_1572731124.6778653.pickle\n"
     ]
    },
    {
     "data": {
      "text/html": [
       "<div>\n",
       "<style scoped>\n",
       "    .dataframe tbody tr th:only-of-type {\n",
       "        vertical-align: middle;\n",
       "    }\n",
       "\n",
       "    .dataframe tbody tr th {\n",
       "        vertical-align: top;\n",
       "    }\n",
       "\n",
       "    .dataframe thead th {\n",
       "        text-align: right;\n",
       "    }\n",
       "</style>\n",
       "<table border=\"1\" class=\"dataframe\">\n",
       "  <thead>\n",
       "    <tr style=\"text-align: right;\">\n",
       "      <th></th>\n",
       "      <th>algorithm</th>\n",
       "      <th>size</th>\n",
       "      <th>order</th>\n",
       "      <th>time</th>\n",
       "      <th>num_operations</th>\n",
       "    </tr>\n",
       "  </thead>\n",
       "  <tbody>\n",
       "    <tr>\n",
       "      <th>0</th>\n",
       "      <td>heap_sort</td>\n",
       "      <td>1000</td>\n",
       "      <td>ascendent_order</td>\n",
       "      <td>0.029998</td>\n",
       "      <td>97629</td>\n",
       "    </tr>\n",
       "    <tr>\n",
       "      <th>1</th>\n",
       "      <td>heap_sort</td>\n",
       "      <td>10000</td>\n",
       "      <td>ascendent_order</td>\n",
       "      <td>0.244983</td>\n",
       "      <td>1306234</td>\n",
       "    </tr>\n",
       "    <tr>\n",
       "      <th>2</th>\n",
       "      <td>heap_sort</td>\n",
       "      <td>100000</td>\n",
       "      <td>ascendent_order</td>\n",
       "      <td>3.212808</td>\n",
       "      <td>16210011</td>\n",
       "    </tr>\n",
       "    <tr>\n",
       "      <th>3</th>\n",
       "      <td>heap_sort</td>\n",
       "      <td>1000000</td>\n",
       "      <td>ascendent_order</td>\n",
       "      <td>41.053541</td>\n",
       "      <td>193392822</td>\n",
       "    </tr>\n",
       "    <tr>\n",
       "      <th>4</th>\n",
       "      <td>heap_sort</td>\n",
       "      <td>1000</td>\n",
       "      <td>descendent_order</td>\n",
       "      <td>0.034997</td>\n",
       "      <td>91222</td>\n",
       "    </tr>\n",
       "    <tr>\n",
       "      <th>5</th>\n",
       "      <td>heap_sort</td>\n",
       "      <td>10000</td>\n",
       "      <td>descendent_order</td>\n",
       "      <td>0.264984</td>\n",
       "      <td>1230083</td>\n",
       "    </tr>\n",
       "    <tr>\n",
       "      <th>6</th>\n",
       "      <td>heap_sort</td>\n",
       "      <td>100000</td>\n",
       "      <td>descendent_order</td>\n",
       "      <td>3.405796</td>\n",
       "      <td>15461303</td>\n",
       "    </tr>\n",
       "    <tr>\n",
       "      <th>7</th>\n",
       "      <td>heap_sort</td>\n",
       "      <td>1000000</td>\n",
       "      <td>descendent_order</td>\n",
       "      <td>42.150475</td>\n",
       "      <td>186002694</td>\n",
       "    </tr>\n",
       "    <tr>\n",
       "      <th>8</th>\n",
       "      <td>heap_sort</td>\n",
       "      <td>1000</td>\n",
       "      <td>shuffled_order</td>\n",
       "      <td>0.037997</td>\n",
       "      <td>91434</td>\n",
       "    </tr>\n",
       "    <tr>\n",
       "      <th>9</th>\n",
       "      <td>heap_sort</td>\n",
       "      <td>10000</td>\n",
       "      <td>shuffled_order</td>\n",
       "      <td>0.252985</td>\n",
       "      <td>1230551</td>\n",
       "    </tr>\n",
       "    <tr>\n",
       "      <th>10</th>\n",
       "      <td>heap_sort</td>\n",
       "      <td>100000</td>\n",
       "      <td>shuffled_order</td>\n",
       "      <td>3.383797</td>\n",
       "      <td>15464037</td>\n",
       "    </tr>\n",
       "    <tr>\n",
       "      <th>11</th>\n",
       "      <td>heap_sort</td>\n",
       "      <td>1000000</td>\n",
       "      <td>shuffled_order</td>\n",
       "      <td>41.446516</td>\n",
       "      <td>186009361</td>\n",
       "    </tr>\n",
       "  </tbody>\n",
       "</table>\n",
       "</div>"
      ],
      "text/plain": [
       "    algorithm     size             order       time  num_operations\n",
       "0   heap_sort     1000   ascendent_order   0.029998           97629\n",
       "1   heap_sort    10000   ascendent_order   0.244983         1306234\n",
       "2   heap_sort   100000   ascendent_order   3.212808        16210011\n",
       "3   heap_sort  1000000   ascendent_order  41.053541       193392822\n",
       "4   heap_sort     1000  descendent_order   0.034997           91222\n",
       "5   heap_sort    10000  descendent_order   0.264984         1230083\n",
       "6   heap_sort   100000  descendent_order   3.405796        15461303\n",
       "7   heap_sort  1000000  descendent_order  42.150475       186002694\n",
       "8   heap_sort     1000    shuffled_order   0.037997           91434\n",
       "9   heap_sort    10000    shuffled_order   0.252985         1230551\n",
       "10  heap_sort   100000    shuffled_order   3.383797        15464037\n",
       "11  heap_sort  1000000    shuffled_order  41.446516       186009361"
      ]
     },
     "execution_count": 51,
     "metadata": {},
     "output_type": "execute_result"
    }
   ],
   "source": [
    "load_stat()\n",
    "df = pd.DataFrame(stats)\n",
    "df"
   ]
  },
  {
   "cell_type": "markdown",
   "metadata": {},
   "source": [
    "### Visualization"
   ]
  },
  {
   "cell_type": "code",
   "execution_count": 52,
   "metadata": {},
   "outputs": [
    {
     "data": {
      "image/png": "[encoded data removed]",
      "text/plain": [
       "<Figure size 1080x360 with 2 Axes>"
      ]
     },
     "metadata": {
      "needs_background": "light"
     },
     "output_type": "display_data"
    }
   ],
   "source": [
    "import seaborn as sns\n",
    "fig, ax = plt.subplots(1,2, figsize=(15,5))\n",
    "\n",
    "sns.lineplot(data=df, x=\"size\", y=\"time\", hue=\"order\", ax=ax[0])\n",
    "sns.lineplot(data=df, x=\"size\", y=\"num_operations\", hue=\"order\", ax=ax[1])\n",
    "plt.show()"
   ]
  }
 ],
 "metadata": {
  "kernelspec": {
   "display_name": "Python 3",
   "language": "python",
   "name": "python3"
  },
  "language_info": {
   "codemirror_mode": {
    "name": "ipython",
    "version": 3
   },
   "file_extension": ".py",
   "mimetype": "text/x-python",
   "name": "python",
   "nbconvert_exporter": "python",
   "pygments_lexer": "ipython3",
   "version": "3.7.4"
  }
 },
 "nbformat": 4,
 "nbformat_minor": 2
}
